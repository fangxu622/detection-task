{
 "metadata": {
  "language_info": {
   "codemirror_mode": {
    "name": "ipython",
    "version": 3
   },
   "file_extension": ".py",
   "mimetype": "text/x-python",
   "name": "python",
   "nbconvert_exporter": "python",
   "pygments_lexer": "ipython3",
   "version": "3.8.8"
  },
  "orig_nbformat": 4,
  "kernelspec": {
   "name": "python3",
   "display_name": "Python 3.8.8 64-bit ('base': conda)"
  },
  "interpreter": {
   "hash": "98b0a9b7b4eaaa670588a142fd0a9b87eaafe866f1db4228be72b4211d12040f"
  }
 },
 "nbformat": 4,
 "nbformat_minor": 2,
 "cells": [
  {
   "cell_type": "code",
   "execution_count": 1,
   "metadata": {},
   "outputs": [],
   "source": [
    "import json\n",
    "import os\n",
    "\n"
   ]
  },
  {
   "cell_type": "code",
   "execution_count": null,
   "metadata": {},
   "outputs": [],
   "source": [
    "out_path = \"/media/fangxu/Disk4T/fangxuPrj/PHD-det/self-tools/Res\"\n",
    "out_file = \"fx_\" + \"reteded_\"\n",
    "json_path = \"/data/fangxu/alb_mc_cast_F1/alb_mc_cast_F1_ep35_rpn0.7_rcnn0.55.bbox.json\"\n",
    "score = 0.008\n",
    "\n",
    "out_file =out_file +str(score)+ json_path.split(\"/\")[-1]\n",
    "res_path = os.path.join( out_path , out_file)\n",
    "\n",
    "with open(json_path,\"r\") as f:\n",
    "    load_dict = json.load(f)\n",
    "    print(\"加载入文件完成...\")\n",
    "\n",
    "new_dict = []\n",
    "for x in load_dict:\n",
    "    if x[\"score\"] > score:\n",
    "        new_dict.append(x)\n",
    "\n",
    "# json_file = open(res_path , 'w+')\n",
    "# json.dump(new_dict,json_file,indent=4)\n",
    "# json_file.close()"
   ]
  },
  {
   "cell_type": "code",
   "execution_count": 15,
   "metadata": {},
   "outputs": [
    {
     "output_type": "stream",
     "name": "stdout",
     "text": [
      "加载入文件完成...\n15911\n"
     ]
    }
   ],
   "source": [
    "out_path = \"/data/fangxu/cast_F1/cast_B1_ep26_400.bbox.json\"\n",
    "#out_file = \"fx_\" + \"reteded_\"\n",
    "json_path = \"/data/fangxu/cast_F1/cast_B1_ep26.bbox.json\"\n",
    "score = 0.008\n",
    "\n",
    "# out_file =out_file +str(score)+ json_path.split(\"/\")[-1]\n",
    "# res_path = os.path.join( out_path , out_file)\n",
    "\n",
    "with open(json_path,\"r\") as f:\n",
    "    load_dict = json.load(f)\n",
    "    print(\"加载入文件完成...\")\n",
    "print(len(load_dict))\n",
    "new_dict = []\n",
    "for x in load_dict:\n",
    "    if x[\"bbox\"][1] > 400:\n",
    "        new_dict.append(x)\n",
    "json_file = open(out_path , 'w+')\n",
    "json.dump(new_dict,json_file,indent=4)\n",
    "json_file.close()\n"
   ]
  },
  {
   "cell_type": "code",
   "execution_count": 16,
   "metadata": {},
   "outputs": [
    {
     "output_type": "stream",
     "name": "stdout",
     "text": [
      "15678\n"
     ]
    }
   ],
   "source": [
    "print(len(new_dict))"
   ]
  },
  {
   "cell_type": "code",
   "execution_count": 7,
   "metadata": {},
   "outputs": [
    {
     "output_type": "execute_result",
     "data": {
      "text/plain": [
       "[{'image_id': 285,\n",
       "  'bbox': [0.0, 70.1291732788086, 168.97491455078125, 275.9489517211914],\n",
       "  'score': 0.007155200466513634,\n",
       "  'category_id': 3},\n",
       " {'image_id': 511,\n",
       "  'bbox': [994.6195068359375,\n",
       "   147.56015014648438,\n",
       "   238.8533935546875,\n",
       "   73.54898071289062],\n",
       "  'score': 0.0910194143652916,\n",
       "  'category_id': 3},\n",
       " {'image_id': 585,\n",
       "  'bbox': [1128.841552734375,\n",
       "   42.71729278564453,\n",
       "   355.2015380859375,\n",
       "   202.77718353271484],\n",
       "  'score': 0.3126230835914612,\n",
       "  'category_id': 3},\n",
       " {'image_id': 624,\n",
       "  'bbox': [527.640625, 36.546913146972656, 44.114013671875, 80.35859680175781],\n",
       "  'score': 0.004761563614010811,\n",
       "  'category_id': 5},\n",
       " {'image_id': 1009,\n",
       "  'bbox': [0.018859636038541794,\n",
       "   131.8037109375,\n",
       "   74.93448661640286,\n",
       "   23.2882080078125],\n",
       "  'score': 0.004973714705556631,\n",
       "  'category_id': 4},\n",
       " {'image_id': 1025,\n",
       "  'bbox': [1115.155517578125,\n",
       "   64.0496597290039,\n",
       "   79.2763671875,\n",
       "   25.858131408691406],\n",
       "  'score': 0.0038045530673116446,\n",
       "  'category_id': 4},\n",
       " {'image_id': 1106,\n",
       "  'bbox': [1375.616455078125,\n",
       "   24.66090202331543,\n",
       "   100.805419921875,\n",
       "   25.280176162719727],\n",
       "  'score': 0.008485249243676662,\n",
       "  'category_id': 4},\n",
       " {'image_id': 1116,\n",
       "  'bbox': [1377.4326171875,\n",
       "   0.2252485603094101,\n",
       "   113.194091796875,\n",
       "   283.7209184318781],\n",
       "  'score': 0.006501531694084406,\n",
       "  'category_id': 3},\n",
       " {'image_id': 1345,\n",
       "  'bbox': [733.6326904296875,\n",
       "   165.20928955078125,\n",
       "   97.2791748046875,\n",
       "   103.71359252929688],\n",
       "  'score': 0.0031522023491561413,\n",
       "  'category_id': 5},\n",
       " {'image_id': 1354,\n",
       "  'bbox': [1219.149658203125, 159.369140625, 176.59375, 55.85517883300781],\n",
       "  'score': 0.004337007645517588,\n",
       "  'category_id': 4},\n",
       " {'image_id': 1357,\n",
       "  'bbox': [281.626708984375,\n",
       "   267.70318603515625,\n",
       "   104.498291015625,\n",
       "   39.31390380859375],\n",
       "  'score': 0.0038631921634078026,\n",
       "  'category_id': 4},\n",
       " {'image_id': 1519,\n",
       "  'bbox': [1465.857177734375,\n",
       "   152.67431640625,\n",
       "   128.318115234375,\n",
       "   47.46795654296875],\n",
       "  'score': 0.008879129774868488,\n",
       "  'category_id': 4},\n",
       " {'image_id': 1764,\n",
       "  'bbox': [229.701904296875,\n",
       "   287.5533447265625,\n",
       "   70.05056762695312,\n",
       "   54.51739501953125],\n",
       "  'score': 0.03468357026576996,\n",
       "  'category_id': 4},\n",
       " {'image_id': 1786,\n",
       "  'bbox': [2.903850793838501,\n",
       "   24.48421859741211,\n",
       "   54.468562841415405,\n",
       "   30.748287200927734],\n",
       "  'score': 0.004250336904078722,\n",
       "  'category_id': 4},\n",
       " {'image_id': 1786,\n",
       "  'bbox': [2.0074286460876465,\n",
       "   12.685541152954102,\n",
       "   80.46978998184204,\n",
       "   49.78915977478027],\n",
       "  'score': 0.0032986861187964678,\n",
       "  'category_id': 4},\n",
       " {'image_id': 1864,\n",
       "  'bbox': [50.461795806884766, 0.0, 751.9947471618652, 120.21119689941406],\n",
       "  'score': 0.014249280095100403,\n",
       "  'category_id': 7},\n",
       " {'image_id': 1914,\n",
       "  'bbox': [1262.750244140625,\n",
       "   7.798579216003418,\n",
       "   337.249755859375,\n",
       "   139.3709306716919],\n",
       "  'score': 0.003667348064482212,\n",
       "  'category_id': 3},\n",
       " {'image_id': 1925,\n",
       "  'bbox': [1587.327392578125,\n",
       "   140.91159057617188,\n",
       "   12.6168212890625,\n",
       "   38.701324462890625],\n",
       "  'score': 0.0041766357608139515,\n",
       "  'category_id': 1},\n",
       " {'image_id': 1925,\n",
       "  'bbox': [1581.069091796875,\n",
       "   148.20208740234375,\n",
       "   18.839599609375,\n",
       "   28.5743408203125],\n",
       "  'score': 0.003600799012929201,\n",
       "  'category_id': 1}]"
      ]
     },
     "metadata": {},
     "execution_count": 7
    }
   ],
   "source": [
    "new_dict"
   ]
  },
  {
   "cell_type": "code",
   "execution_count": null,
   "metadata": {},
   "outputs": [],
   "source": []
  }
 ]
}